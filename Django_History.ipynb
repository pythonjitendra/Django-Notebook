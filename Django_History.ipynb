{
  "nbformat": 4,
  "nbformat_minor": 0,
  "metadata": {
    "colab": {
      "name": "Django History.ipynb",
      "version": "0.3.2",
      "provenance": [],
      "collapsed_sections": []
    },
    "kernelspec": {
      "name": "python3",
      "display_name": "Python 3"
    }
  },
  "cells": [
    {
      "metadata": {
        "id": "42iQzIEVpeax",
        "colab_type": "text"
      },
      "cell_type": "markdown",
      "source": [
        "# History\n",
        "\n",
        "**History. Django** was created in the fall of 2003, when the web programmers at the Lawrence Journal-World newspaper, **Adrian Holovaty** and **Simon Willison**, began using Python to build applications. It was released publicly under a BSD license in July 2005. The framework was named after guitarist **Django** Reinhardt.\n",
        "\n",
        "\n",
        "**What is Django and why it is used?**\n",
        "\n",
        "**Django** is a Python based full stack web development framework means it is used to develop full fledged websites in Python. it encourages rapid development and advocates pragmatic and clean code. ... Django also has a built-in Admin panel for **CRUD** tasks.\n",
        "\n",
        "\n",
        "**Where does the name Django come from?**\n",
        "**Django** is a **Romany** term meaning \"I awake\". It is best known as the nickname of Belgian jazz guitarist Jean Baptiste \"Django\" Reinhardt, whose fame has led to its use throughout music. Django is also the name of a web development framework.\n",
        "\n",
        "\n",
        "**What is difference between flask and Django?**\n",
        "\n",
        "**Django** is a full-stack web framework for Python, whereas **Flask** is a lightweight and extensible Python web framework. Django is developed based on batteries-included approach. ... Hence, it becomes essential for web developers to understand the major differences between Flask vs Django.\n",
        "\n",
        "\n",
        "**What is middleware in Django?**\n",
        "\n",
        "**Middleware** is a framework of hooks into Django's request/response processing. It's a light, low-level “plugin” system for globally altering Django's input or output. ... For example, Django includes a middleware component, **AuthenticationMiddleware** , that associates users with requests using **sessions**.\n",
        "\n",
        "\n",
        "**Who uses Django framework**\n",
        "\n",
        "1- NASA\n",
        "2- Pinterest\n",
        "3- Youtube\n",
        "4- Instagram\n",
        "5- DropBox\n",
        "6- Reddit"
      ]
    },
    {
      "metadata": {
        "id": "M8JHiUZgq9kK",
        "colab_type": "text"
      },
      "cell_type": "markdown",
      "source": [
        "#Design philosophies\n",
        "\n",
        "\n",
        "**1- Loose coupling**\n",
        "\n",
        "For example, the template system knows nothing about Web requests, the database layer knows nothing about data display and the view system doesn’t care which template system a programmer uses.\n",
        "\n",
        "Although Django comes with a full stack for convenience, the pieces of the stack are independent of another wherever possible.\n",
        "\n",
        "\n",
        "**2- Less code**\n",
        "\n",
        "Django apps should use as little code as possible; they should lack boilerplate. Django should take full advantage of Python’s dynamic capabilities, such as introspection.\n",
        "\n",
        "**3- Fast Developement**\n",
        "\n",
        "The point of a Web framework in the 21st century is to make the tedious aspects of Web development fast. Django should allow for incredibly quick Web development.\n",
        "\n",
        "\n",
        "**4- Don’t repeat yourself (DRY)**\n",
        "\n",
        "**Every piece of knowledge must have a single, unambiguous, authoritative representation within a system.**\n",
        "\n",
        "Every distinct concept and/or piece of data should live in one, and only one, place. Redundancy is bad. Normalization is good.\n",
        "\n",
        "URLs in a Django app should not be coupled to the underlying Python code. Tying URLs to Python function names is a Bad And Ugly Thing.\n",
        "\n",
        "Along these lines, the Django URL system should allow URLs for the same app to be different in different contexts. For example, one site may put stories at /stories/, while another may use /news/."
      ]
    },
    {
      "metadata": {
        "id": "L2fvFCbfuPls",
        "colab_type": "text"
      },
      "cell_type": "markdown",
      "source": [
        "#Advantages Of Django\n",
        "\n",
        "**Fast**: This has been designed in a way to help the developers make an application as fast as possible. From idea, production to release, Django helps in making it both cost effective and efficient. Thus it becomes an ideal solution for developers having a primary focus on deadlines.\n",
        "\n",
        "\n",
        "**Fully Loaded:** It works in a way that includes dozens of extras to help with user authentication, site maps, content administration, RSS feeds and much more such things. These aspects help in carrying out the web development process completely.\n",
        "\n",
        "\n",
        "**Secure**: When you are doing it in Django, it is ensured that developers don’t commit any mistakes related to security. Some of the common mistakes include SQL injection, cross-site request forgery, clickjacking and cross-site scripting. To manage effectively usernames and passwords, the user authentication system is the key.\n",
        "\n",
        "\n",
        "**Scalable:** To meet the heaviest traffic demand, the benefits of Django framework can be seen. Therefore, the busiest sites use this medium to quickly meet the traffic demands.\n",
        "\n",
        "**Versatile**: Content management, scientific computing platforms, and even big organizations, all these aspects are very efficiently managed by the use of Django.\n",
        "\n",
        "**Multilingual Support **\n",
        "\n",
        "**Administration GUI **\n",
        "\n",
        "**ORM Support**\n",
        "\n",
        "ORM is yet another nerd-acronym, it is short for Object Relational Mapping. In a nutshell, an ORM framework is written in an object oriented language (like PHP, Java, C# etc…) and it is designed to virtually wrap around a relational database.\n",
        "\n",
        "![alt text](https://www.fullstackpython.com/img/visuals/orms-bridge.png)\n",
        "\n",
        " **Normal query**\n",
        "SELECT * FROM USERS WHERE zip_code=94107;\n",
        "\n",
        "**Django ORM query would instead look like the following Python code:**\n",
        "users = Users.objects.filter(zip_code=94107)\n",
        "\n",
        "\n",
        "\n"
      ]
    },
    {
      "metadata": {
        "id": "OpvXxQTjwBzp",
        "colab_type": "text"
      },
      "cell_type": "markdown",
      "source": [
        "#Disadvantages\n",
        "\n",
        "**1- Uses routing pattern specify its URL**\n",
        "\n",
        "**2- Django is too monolithic (formed of a single large block of stone)**\n",
        "\n",
        "**3 -Everything is based on Django ORM**\n",
        "\n",
        "**4 -Components get deployed together**\n",
        "\n",
        "**5- Knowledge of full system is required to work.**"
      ]
    },
    {
      "metadata": {
        "id": "FKsP4JuOwmqw",
        "colab_type": "code",
        "colab": {}
      },
      "cell_type": "code",
      "source": [
        ""
      ],
      "execution_count": 0,
      "outputs": []
    },
    {
      "metadata": {
        "id": "3x7yN6inxg0G",
        "colab_type": "text"
      },
      "cell_type": "markdown",
      "source": [
        "# Window Insllation steps\n",
        "\n",
        "### Install PIP if not exist, Please refer to below URL to download and install by command prompt.\n",
        "\n",
        "https://bootstrap.pypa.io/get-pip.py\n",
        "\n",
        "Download get-pip.py page and run in command prompt  like  python get-pip.py\n",
        "\n",
        "Click on below link to know, How to install pip in your Machine\n",
        "\n",
        "\n",
        "[link text](https://drive.google.com/file/d/1OdCzy-y5hiKn1SN1v2juCeaZNKz9qoWv/view?usp=sharing)\n",
        "\n",
        "\n",
        "After successfully install pip, We can continue with below steps \n",
        "\n",
        "Steps for setup django env and Install django itself:\n",
        "\n",
        "\n",
        "1- pip install virtualenv\n",
        "\n",
        "2- virtualenv venv\n",
        "\n",
        "3- cd venv\n",
        "\n",
        "4- Script\\activate\n",
        "\n",
        "5- pip install django"
      ]
    },
    {
      "metadata": {
        "id": "gdmO1hMqxojs",
        "colab_type": "code",
        "colab": {}
      },
      "cell_type": "code",
      "source": [
        ""
      ],
      "execution_count": 0,
      "outputs": []
    },
    {
      "metadata": {
        "id": "dX_hWLLQyill",
        "colab_type": "text"
      },
      "cell_type": "markdown",
      "source": [
        "# Create a project\n",
        "\n",
        "Whether you are on Windows or Linux, just get a terminal or a cmd prompt and navigate to the place you want your project to be created, then use this code \n",
        "\n",
        "**django-admin startproject myproject**\n",
        "\n",
        "\n",
        "This will create a \"myproject\" folder with the following structure −\n",
        "\n",
        "myproject/\n",
        "\n",
        "   manage.py\n",
        "   \n",
        "   myproject/\n",
        "   \n",
        "      __init__.py\n",
        "      settings.py\n",
        "      urls.py\n",
        "      wsgi.py\n",
        "      \n",
        "      \n",
        "      \n",
        "  ** manage.py **\n",
        "  \n",
        " This file is kind of your project local django-admin for interacting with your project via command line (start the development server, sync db...). To get a full list of command accessible via manage.py you can use the code\n",
        " \n",
        " **__init__.py** − Just for python, treat this folder as package.\n",
        "\n",
        "**settings.py** − As the name indicates, your project settings.\n",
        "\n",
        "**urls.py** − All links of your project and the function to call. A kind of ToC of your project.\n",
        "\n",
        "**wsgi.py** − If you need to deploy your project over WSGI.\n",
        "\n",
        "\n",
        "\n",
        "\n",
        "## Start run our appliaction\n",
        "\n",
        "Once we have successfully created project in django, We will run the appication by using below command\n",
        "\n",
        "**python manage.py runserver**\n",
        " \n",
        " \n",
        "Application look like :\n",
        "\n",
        "![alt text](https://tutorial.djangogirls.org/en/django_start_project/images/install_worked.png)\n"
      ]
    },
    {
      "metadata": {
        "id": "AjtNT0aoy-pq",
        "colab_type": "code",
        "colab": {}
      },
      "cell_type": "code",
      "source": [
        ""
      ],
      "execution_count": 0,
      "outputs": []
    },
    {
      "metadata": {
        "id": "iOEtv3rVzhOu",
        "colab_type": "text"
      },
      "cell_type": "markdown",
      "source": [
        "# Setting Up Your Project\n",
        "\n",
        "**DEBUG = True**\n",
        "\n",
        "This option lets you set if your project is in debug mode or not. Debug mode lets you get more information about your project's error. Never set it to ‘True’ for a live project. However, this has to be set to ‘True’ if you want the Django light server to serve static files. Do it only in the development mode.\n",
        "\n",
        "\n",
        "\n",
        "**DATABASES** = {\n",
        "   'default': {\n",
        "      'ENGINE': 'django.db.backends.sqlite3',\n",
        "      'NAME': 'database.sql',\n",
        "      'USER': '',\n",
        "      'PASSWORD': '',\n",
        "      'HOST': '',\n",
        "      'PORT': '',\n",
        "   }\n",
        "}\n",
        "\n",
        "Database is set in the ‘Database’ dictionary. The example above is for SQLite engine. As stated earlier,\n",
        "\n",
        "\n",
        "**Django also supports **−\n",
        "\n",
        "**MySQL** (django.db.backends.mysql)\n",
        "\n",
        "**PostGreSQL** (django.db.backends.postgresql_psycopg2)\n",
        "\n",
        "**Oracle** (django.db.backends.oracle) and NoSQL DB\n",
        "\n",
        "**MongoDB** (django_mongodb_engine)\n",
        "\n",
        "\n",
        "**Note :** Before setting any new engine, make sure you have the correct db driver installed.\n",
        "\n",
        "Note : You can also set others options like: \n",
        "\n",
        "**TIME_ZONE, LANGUAGE_CODE, TEMPLATE**\n",
        "\n",
        "\n",
        "#### Start running our project with below mentioned command \n",
        "Now that your project is created and configured make sure it's working : -\n",
        "\n",
        "**python manage.py runserver**\n",
        "\n"
      ]
    },
    {
      "metadata": {
        "id": "61acYxqy07TH",
        "colab_type": "code",
        "colab": {}
      },
      "cell_type": "code",
      "source": [
        ""
      ],
      "execution_count": 0,
      "outputs": []
    },
    {
      "metadata": {
        "id": "cYfVwMpl08A_",
        "colab_type": "text"
      },
      "cell_type": "markdown",
      "source": [
        "# Create an Application\n",
        "\n",
        "We assume you are in **your project folder.** In our main “**myproject**” folder, the same folder then **manage.py** \n",
        "\n",
        "**python manage.py startapp myapp**\n",
        "\n",
        "###application structure \n",
        "\n",
        "myapp/\n",
        "\n",
        "    __init__.py\n",
        "     admin.py\n",
        "    models.py\n",
        "     tests.py\n",
        "    views.py\n",
        "   \n",
        "   \n",
        " ** __init__.py** − Just to make sure python handles this folder as a package.\n",
        "\n",
        "**admin.py** − This file helps you make the app modifiable in the admin interface.\n",
        "\n",
        "**models.py** − This is where all the application models are stored.\n",
        "\n",
        "**tests.py** − This is where your unit tests are.\n",
        "\n",
        "**views.py** − This is where your application views are.\n",
        "\n",
        "\n",
        "\n",
        "###  Get the Project to Know About Your Application\n",
        "\n",
        "\n",
        "INSTALLED_APPS = (\n",
        "   'django.contrib.admin',\n",
        "   \n",
        "   'django.contrib.auth',\n",
        "   \n",
        "   'django.contrib.contenttypes',\n",
        "   \n",
        "   'django.contrib.sessions',\n",
        "   \n",
        "   'django.contrib.messages',\n",
        "   \n",
        "   'django.contrib.staticfiles',\n",
        "   \n",
        "   'myapp', **# this is your app which is identify your have installed with this project**\n",
        ")\n",
        "\n"
      ]
    },
    {
      "metadata": {
        "id": "Xdl26uy-2alU",
        "colab_type": "text"
      },
      "cell_type": "markdown",
      "source": [
        "###Before launching your server, to access your Admin Interface\n",
        "\n",
        "**python manage.py migrate**\n",
        "\n",
        "syncdb will create necessary tables or collections depending on your db type, necessary for the admin interface to run. Even if you don't have a superuser, you will be prompted to create one\n",
        "\n",
        "**Note :** If you already have a superuser or have forgotten it, you can always create one using the following code\n",
        "\n",
        "**python manage.py createsuperuser**\n",
        "\n",
        "Now to start the **Admin Interfac**e, we need to make sure we have **configured** a URL for** our admin interface**. Open the **myproject/url.py** and you should have something like\n",
        "\n",
        "\n",
        "from django.conf.urls import patterns, include, url\n",
        "\n",
        "from django.contrib import admin\n",
        "\n",
        "admin.autodiscover()\n",
        "\n",
        "\n",
        "\n",
        "urlpatterns = patterns('',\n",
        "   \n",
        "   url(r'^$', 'myproject.views.home', name = 'home'),\n",
        "   url(r'^blog/', include('blog.urls')),\n",
        "\n",
        "   url(r'^admin/', include(admin.site.urls)),\n",
        ")\n",
        "\n",
        "**Now just run the server**\n",
        "\n",
        "python manage.py runserver\n",
        "\n",
        "http://127.0.0.1:8000/admin/\n",
        "\n",
        "\n",
        "See your browser screen.\n",
        "\n"
      ]
    },
    {
      "metadata": {
        "id": "pFcplHDj3nUg",
        "colab_type": "code",
        "colab": {}
      },
      "cell_type": "code",
      "source": [
        ""
      ],
      "execution_count": 0,
      "outputs": []
    },
    {
      "metadata": {
        "id": "og50gcHn3wpN",
        "colab_type": "text"
      },
      "cell_type": "markdown",
      "source": [
        " # Hello World Program\n",
        " \n",
        " Simple View\n",
        " \n",
        " \n",
        " from django.http import HttpResponse\n",
        "\n",
        "\n",
        "def hello(request):\n",
        "\n",
        "     text = \"\"\"welcome to my app !\"\"\"\n",
        "     return HttpResponse(text)\n",
        "   \n",
        "   \n",
        "   \n",
        "   \n",
        "from django.conf.urls import patterns, include, url\n",
        "\n",
        "from django.contrib import admin\n",
        "\n",
        "\n",
        "urlpatterns = patterns('',\n",
        "   url(r'^admin', include(admin.site.urls)),\n",
        "   url(r'^hello/', 'myapp.views.hello', name = 'hello'),\n",
        ")\n",
        "\n",
        "**The pattern** − A regexp matching the URL you want to be resolved and map. Everything that can work with the python 're' module is eligible for the pattern (useful when you want to pass parameters via url).\n",
        "\n",
        "**The python path to the view** − Same as when you are importing a module.\n",
        "\n",
        "**The name** − In order to perform URL reversing, you’ll need to use named URL patterns as done in the examples above. Once done, just start the server to access your view via \n",
        "\n",
        "http://127.0.0.1/hello\n"
      ]
    },
    {
      "metadata": {
        "id": "B3FPO5X2zc-t",
        "colab_type": "code",
        "colab": {}
      },
      "cell_type": "code",
      "source": [
        ""
      ],
      "execution_count": 0,
      "outputs": []
    }
  ]
}